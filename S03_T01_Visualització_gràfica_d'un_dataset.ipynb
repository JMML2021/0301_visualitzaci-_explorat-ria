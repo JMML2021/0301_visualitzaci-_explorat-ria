{
  "nbformat": 4,
  "nbformat_minor": 0,
  "metadata": {
    "colab": {
      "name": "S03 T01 Visualització gràfica d'un dataset.ipynb",
      "provenance": [],
      "authorship_tag": "ABX9TyMEqZIF3uswryFXYpoynsH6",
      "include_colab_link": true
    },
    "kernelspec": {
      "name": "python3",
      "display_name": "Python 3"
    },
    "language_info": {
      "name": "python"
    },
    "accelerator": "GPU"
  },
  "cells": [
    {
      "cell_type": "markdown",
      "metadata": {
        "id": "view-in-github",
        "colab_type": "text"
      },
      "source": [
        "<a href=\"https://colab.research.google.com/github/JMML2021/0301_visualitzaci-_explorat-ria/blob/main/S03_T01_Visualitzaci%C3%B3_gr%C3%A0fica_d'un_dataset.ipynb\" target=\"_parent\"><img src=\"https://colab.research.google.com/assets/colab-badge.svg\" alt=\"Open In Colab\"/></a>"
      ]
    },
    {
      "cell_type": "markdown",
      "source": [
        "Objectiu general: \n",
        "\n",
        "Entendre i aplicar les diferents tècniques de visualització amb Python  \n",
        "Objectius específics: \n",
        "\n",
        "Conèixer les diferents llibreries Matplotlib i Seaborn\n",
        "Si algun recurs de towardsdatascience o medium demana registre, proveu d’obrir-lo en finestra d’incògnit."
      ],
      "metadata": {
        "id": "5DC5thNWx9rp"
      }
    },
    {
      "cell_type": "markdown",
      "source": [
        " **# - Exercici 1**:"
      ],
      "metadata": {
        "id": "-7-AWnybyYFO"
      }
    },
    {
      "cell_type": "markdown",
      "source": [
        "Resumeix gràficament el data set DelayedFlights.csv\n",
        "\n",
        "Crea almenys una visualització per:\n",
        "\n",
        "Una variable categòrica (UniqueCarrier)\n",
        "Una variable numèrica (ArrDelay)\n",
        "Una variable numèrica i una categòrica (ArrDelay i UniqueCarrier)\n",
        "Dues variables numèriques (ArrDelay i DepDelay)\n",
        "Tres variables (ArrDelay, DepDelay i UniqueCarrier)\n",
        "Més de tres variables (ArrDelay, DepDelay, AirTime i UniqueCarrier)."
      ],
      "metadata": {
        "id": "A6dMBiniyQ9v"
      }
    },
    {
      "cell_type": "code",
      "source": [
        "import pandas as pd"
      ],
      "metadata": {
        "id": "wJUeTj11y2Eu"
      },
      "execution_count": 6,
      "outputs": []
    },
    {
      "cell_type": "code",
      "source": [
        "!pwd          # El comando pwd (de las siglas en inglés print working directory, cuya traducción sería imprimir directorio de trabajo) se utiliza para imprimir el nombre"
      ],
      "metadata": {
        "colab": {
          "base_uri": "https://localhost:8080/"
        },
        "id": "Pq8OT1FEz0t5",
        "outputId": "4a078495-aa1f-422c-ba16-89e265f18540"
      },
      "execution_count": 7,
      "outputs": [
        {
          "output_type": "stream",
          "name": "stdout",
          "text": [
            "/content\n"
          ]
        }
      ]
    },
    {
      "cell_type": "code",
      "source": [
        "# !pip install automl"
      ],
      "metadata": {
        "id": "XTBhLBZm0Klk"
      },
      "execution_count": 8,
      "outputs": []
    },
    {
      "cell_type": "code",
      "source": [
        ""
      ],
      "metadata": {
        "id": "_JtRFVwP0bK5"
      },
      "execution_count": 8,
      "outputs": []
    }
  ]
}